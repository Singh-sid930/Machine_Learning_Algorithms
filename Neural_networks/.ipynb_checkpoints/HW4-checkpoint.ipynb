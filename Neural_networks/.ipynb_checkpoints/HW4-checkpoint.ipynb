{
 "cells": [
  {
   "cell_type": "code",
   "execution_count": 1,
   "metadata": {
    "colab": {},
    "colab_type": "code",
    "id": "G8JILDxrsgPY"
   },
   "outputs": [],
   "source": [
    "import numpy as np\n",
    "import torch\n",
    "import torch.nn as nn\n",
    "import torch.nn.functional as F\n",
    "import torch.optim as optim\n",
    "from torch.utils.data import Dataset, DataLoader, TensorDataset\n",
    "from torch.autograd import Variable\n",
    "from torchvision import transforms\n",
    "from matplotlib import pyplot as PLT\n",
    "#from google.colab import drive                IF you are using COLAB"
   ]
  },
  {
   "cell_type": "code",
   "execution_count": null,
   "metadata": {
    "colab": {},
    "colab_type": "code",
    "id": "yKixUdldszgx"
   },
   "outputs": [],
   "source": []
  },
  {
   "cell_type": "code",
   "execution_count": 2,
   "metadata": {
    "colab": {},
    "colab_type": "code",
    "id": "HApL-cvBs1Ah"
   },
   "outputs": [],
   "source": [
    "def extract_data(x_data_filepath, y_data_filepath):\n",
    "    X = np.load(x_data_filepath)\n",
    "    y = np.load(y_data_filepath)\n",
    "    return X, y"
   ]
  },
  {
   "cell_type": "code",
   "execution_count": 3,
   "metadata": {
    "colab": {},
    "colab_type": "code",
    "id": "k_mCkbFV1bq9"
   },
   "outputs": [],
   "source": [
    "def data_visualization(images,labels):\n",
    "    \n",
    "    for i in range(5):\n",
    "        index = np.where(labels==i)\n",
    "        X_v = images[index]\n",
    "        for r in range(7):\n",
    "            im_show = X_v[r]\n",
    "            im_show = im_show.reshape((64,85,3))\n",
    "            PLT.imshow(im_show)\n",
    "            PLT.show\n",
    "\n",
    "    \n",
    "    \"\"\"\n",
    "    Visualize 6 pictures per class using your prefered visulization library (matplotlib, etc)\n",
    "\n",
    "    Args:\n",
    "        images: training images in shape (num_images,3,image_H,image_W)\n",
    "        labels: training labels in shape (num_images,)\n",
    "    \"\"\""
   ]
  },
  {
   "cell_type": "code",
   "execution_count": 4,
   "metadata": {
    "colab": {},
    "colab_type": "code",
    "id": "TnttiXoks2sn"
   },
   "outputs": [],
   "source": [
    "############################################################\n",
    "# Extracting and loading data\n",
    "############################################################\n",
    "class Dataset(Dataset):\n",
    "    def __init__(self, X, y):\n",
    "        self.len = len(X)           \n",
    "        if torch.cuda.is_available():\n",
    "            self.x_data = torch.from_numpy(X).float().cuda()\n",
    "            self.y_data = torch.from_numpy(y).long().cuda()\n",
    "        else:\n",
    "            self.x_data = torch.from_numpy(X).float()\n",
    "            self.y_data = torch.from_numpy(y).long()\n",
    "    def __len__(self):\n",
    "        return self.len\n",
    "    def __getitem__(self, idx):\n",
    "        return self.x_data[idx], self.y_data[idx]"
   ]
  },
  {
   "cell_type": "code",
   "execution_count": 13,
   "metadata": {
    "colab": {},
    "colab_type": "code",
    "id": "s2LxFInms4ks"
   },
   "outputs": [],
   "source": [
    "def create_validation(x_train,y_train):\n",
    "    \n",
    "#     new_x_train = x_train[0:2081]\n",
    "#     new_y_train = y_train[0:2081]\n",
    "    \n",
    "#     x_val = x_train[2081:2601]\n",
    "#     y_val = y_train[2081:2601]\n",
    "\n",
    "    data_length = len(x_train)\n",
    "    \n",
    "    train_range = range(0,round(0.8*data_length))\n",
    "    valid_range = range(round(0.8*data_length),data_length)\n",
    "    get_data = Dataset(x_train,y_train)\n",
    "    \n",
    "    new_x_train,new_y_train = get_data.__getitem__(train_range) \n",
    "                                                   \n",
    "    x_val,y_val = get_data.__getitem__(valid_range) \n",
    "    \n",
    "    \"\"\"\n",
    "    Randomly choose 20 percent of the training data as validation data.\n",
    "\n",
    "    Args:\n",
    "        x_train: training images in shape (num_images,3,image_H,image_W)\n",
    "        y_train: training labels in shape (num_images,)\n",
    "    Returns:\n",
    "        new_x_train: training images in shape (0.8*num_images,3,image_H,image_W)\n",
    "        new_y_train: training labels in shape (0.8*num_images,)\n",
    "        x_val: validation images in shape (0.2*num_images,3,image_H,image_W)\n",
    "        y_val: validation labels in shape (0.2*num_images,)\n",
    "    \"\"\"\n",
    "    return new_x_train,new_y_train,x_val,y_val"
   ]
  },
  {
   "cell_type": "code",
   "execution_count": 6,
   "metadata": {
    "colab": {},
    "colab_type": "code",
    "id": "812xDSEms72t"
   },
   "outputs": [],
   "source": [
    "############################################################\n",
    "# Feed Forward Neural Network\n",
    "############################################################\n",
    "class FeedForwardNN(nn.Module):\n",
    "    \"\"\" \n",
    "        (1) Use self.fc1 as the variable name for your first fully connected layer\n",
    "        (2) Use self.fc2 as the variable name for your second fully connected layer\n",
    "    \"\"\"\n",
    "    def __init__(self):\n",
    "        \n",
    "        super().__init__()\n",
    "        self.fc1 = nn.Linear(16320,2000);\n",
    "        self.fc2 = nn.Linear(2000,5)\n",
    "\n",
    "    def forward(self, x):\n",
    "        \n",
    "        x = x.view(x.size(0),-1)\n",
    "        x = self.fc1(x)\n",
    "        x = F.relu(x)\n",
    "        out = self.fc2(x)\n",
    "\n",
    "        return out\n",
    "\n",
    "    \"\"\" \n",
    "        Please do not change the functions below. \n",
    "        They will be used to test the correctness of your implementation \n",
    "    \"\"\"\n",
    "    def get_fc1_params(self):\n",
    "        return self.fc1.__repr__()\n",
    "    \n",
    "    def get_fc2_params(self):\n",
    "        return self.fc2.__repr__()"
   ]
  },
  {
   "cell_type": "code",
   "execution_count": 7,
   "metadata": {
    "colab": {},
    "colab_type": "code",
    "id": "0NXchxSvtEdz"
   },
   "outputs": [],
   "source": [
    "############################################################\n",
    "# Convolutional Neural Network\n",
    "############################################################\n",
    "class ConvolutionalNN(nn.Module):\n",
    "    \"\"\" \n",
    "        (1) Use self.conv1 as the variable name for your first convolutional layer\n",
    "        (2) Use self.pool1 as the variable name for your first pooling layer\n",
    "        (3) Use self.conv2 as the variable name for your second convolutional layer\n",
    "        (4) Use self.pool2 as the variable name for you second pooling layer  \n",
    "        (5) Use self.fc1 as the variable name for your first fully connected laye\n",
    "        (6) Use self.fc2 as the variable name for your second fully connected layer\n",
    "    \"\"\"\n",
    "    def __init__(self):\n",
    "        super(ConvolutionalNN,self).__init__()\n",
    "        \n",
    "        self.conv1 = nn.Conv2d(3,16,kernel_size = 3, stride = 1, padding = 0)\n",
    "        self.pool1 = nn.MaxPool2d(kernel_size = 2)\n",
    "        self.conv2 = nn.Conv2d(16,32,kernel_size = 3, stride = 1, padding = 0)\n",
    "        self.pool2 = nn.MaxPool2d(kernel_size = 2)\n",
    "        self.dropout = nn.Dropout()\n",
    "        self.fc1 = nn.Linear(32*14*19,200)\n",
    "        self.fc2 = nn.Linear(200,5)\n",
    "        \n",
    "      \n",
    "    def forward(self, x):\n",
    "        \n",
    "        x = self.conv1(x)\n",
    "        x = F.relu(x)\n",
    "        x = self.pool1(x)\n",
    "        x = self.conv2(x)\n",
    "        x = F.relu(x)\n",
    "        x = self.pool2(x)\n",
    "        out = x.reshape(x.size(0),-1)\n",
    "        out = self.dropout(out)\n",
    "        out = self.fc1(out)\n",
    "        out = F.relu(out)\n",
    "        out = self.fc2(out)\n",
    "        \n",
    "        return out\n",
    "      \n",
    "    \"\"\" \n",
    "        Please do not change the functions below. \n",
    "        They will be used to test the correctness of your implementation\n",
    "    \"\"\"\n",
    "    \n",
    "    def get_conv1_params(self):\n",
    "        return self.conv1.__repr__()\n",
    "    \n",
    "    def get_pool1_params(self):\n",
    "        return self.pool1.__repr__()\n",
    "\n",
    "    def get_conv2_params(self):\n",
    "        return self.conv2.__repr__()\n",
    "      \n",
    "    def get_pool2_params(self):\n",
    "        return self.pool2.__repr__()\n",
    "      \n",
    "    def get_fc1_params(self):\n",
    "        return self.fc1.__repr__()\n",
    "    \n",
    "    def get_fc2_params(self):\n",
    "        return self.fc2.__repr__()"
   ]
  },
  {
   "cell_type": "code",
   "execution_count": 8,
   "metadata": {
    "colab": {},
    "colab_type": "code",
    "id": "K5hhOy6htEtC"
   },
   "outputs": [],
   "source": [
    "def normalize_image(image):\n",
    "    \n",
    "    mean_R = np.mean(image[0,:,:])\n",
    "    mean_G = np.mean(image[1,:,:])\n",
    "    mean_B = np.mean(image[2,:,:])\n",
    "    \n",
    "    std_R = np.std(image[0,:,:])\n",
    "    std_G = np.std(image[1,:,:])\n",
    "    std_B = np.std(image[2,:,:])\n",
    "    \n",
    "    norimg = image.copy()\n",
    "    \n",
    "    norimg[0,:,:] = (image[0,:,:] - mean_R)/std_R\n",
    "    norimg[1,:,:] = (image[1,:,:] - mean_G)/std_G\n",
    "    norimg[2,:,:] = (image[2,:,:] - mean_B)/std_B\n",
    "    \n",
    "    return norimg\n",
    "    \n",
    "    \n",
    "    \"\"\"\n",
    "    Normalize each input image\n",
    "\n",
    "    Args:\n",
    "        image: the input image in shape (3,image_H,image_W)\n",
    "    Returns:\n",
    "        norimg: the normalized image in the same shape as the input\n",
    "    \"\"\""
   ]
  },
  {
   "cell_type": "code",
   "execution_count": 9,
   "metadata": {
    "colab": {},
    "colab_type": "code",
    "id": "aVRyEtmQtzn2"
   },
   "outputs": [],
   "source": [
    "############################################################\n",
    "# Optimized Neural Network\n",
    "############################################################\n",
    "class OptimizedNN(nn.Module):\n",
    "    def __init__(self):\n",
    "        super(OptimizedNN, self).__init__()\n",
    "        self.conv1 = nn.Conv2d(3, 16, kernel_size = 3,stride=1, padding=0)\n",
    "        self.pool1 = nn.MaxPool2d(kernel_size = 2)\n",
    "        self.conv2 = nn.Conv2d(16, 32, kernel_size = 3,stride=1, padding=0)\n",
    "        self.pool2 = nn.MaxPool2d(kernel_size = 2)\n",
    "        self.conv3 = nn.Conv2d(32, 64, kernel_size = 3,stride=1, padding=0)\n",
    "        self.pool3 = nn.MaxPool2d(kernel_size = 2)\n",
    "        self.fc1 = nn.Linear(3072, 200)\n",
    "        self.dropout1 = nn.Dropout(p=0.5)\n",
    "        self.fc2 = nn.Linear(200, 5)\n",
    "        self.dropout2 = nn.Dropout(p=0.2)\n",
    "        \n",
    "    def forward(self, x):\n",
    "        x_numpy = x.cpu().numpy()\n",
    "        x = normalize_image(x_numpy)\n",
    "        x = torch.from_numpy(x).cuda()\n",
    "        out = F.relu(self.conv1(x))\n",
    "        out = self.pool1(out)\n",
    "        out = F.relu(self.conv2(out))\n",
    "        out = self.pool2(out)\n",
    "        out = F.relu(self.conv3(out))\n",
    "        out = self.pool3(out)\n",
    "        out = out.view(out.size(0),-1)\n",
    "        out = self.dropout1(out)\n",
    "        out = F.relu(self.fc1(out))\n",
    "        out = self.dropout2(out)\n",
    "        out = self.fc2(out)\n",
    "        return out\n",
    "      "
   ]
  },
  {
   "cell_type": "code",
   "execution_count": 10,
   "metadata": {
    "colab": {},
    "colab_type": "code",
    "id": "nQHzqYLSt-mQ"
   },
   "outputs": [],
   "source": [
    "def train_val_NN(neural_network, train_loader, validation_loader, loss_function, optimizer,num_epochs):\n",
    "    \n",
    "    total_step = len(train_loader)\n",
    "    loss_list = []\n",
    "    accuracy = []\n",
    "    val_accuracy = []\n",
    "    \n",
    "    print(\"Starting the training\")\n",
    "    \n",
    "    for epoch in range(40):\n",
    "#         print(\"Starting with the first Epoch\")\n",
    "        for i, (images, labels) in enumerate(train_loader):\n",
    "            outputs = neural_network(images)\n",
    "            loss = criterion(outputs, labels)\n",
    "            \n",
    "\n",
    "            # Backprop and perform optimisation\n",
    "            optimizer.zero_grad()\n",
    "            loss.backward()\n",
    "            optimizer.step()      \n",
    "\n",
    "            # Track the accuracy\n",
    "            total_train = labels.size(0)\n",
    "            _, predicted = torch.max(outputs.data, 1)\n",
    "            correct_train = (predicted == labels).sum().item()\n",
    "            \n",
    "            \n",
    "            #check the validation set\n",
    "            neural_network.eval()\n",
    "            with torch.no_grad():\n",
    "                correct = 0\n",
    "                total = 0\n",
    "                for images, labels in validation_loader:\n",
    "                    outputs = neural_network(images)\n",
    "                    _, predicted = torch.max(outputs.data, 1)\n",
    "                    total_val = labels.size(0)\n",
    "                    correct_val = (predicted == labels).sum().item()\n",
    "        #update lists for the accuracies and losses\n",
    "        loss_list.append(loss.item())\n",
    "        val_accuracy.append(correct_val / total_val)\n",
    "        accuracy.append(correct_train / total_train)\n",
    "#             print('Test Accuracy of the model on the validation images: {} %'.format((correct / total) * 100))\n",
    "    \"\"\"\n",
    "    Runs experiment on the model neural network given a train loader, loss function and optimizer and find validation accuracy for each epoch given the validation_loader.\n",
    "\n",
    "    Args:\n",
    "        neural_network (NN model that extends torch.nn.Module): For example, it should take an instance of either\n",
    "                                                                FeedForwardNN or ConvolutionalNN,\n",
    "        train_loader (DataLoader),\n",
    "        validation_loader (DataLoader),\n",
    "        loss_function (torch.nn.CrossEntropyLoss),\n",
    "        optimizer (optim.SGD)\n",
    "        num_epochs (number of iterations)\n",
    "    Returns:\n",
    "        tuple: First position, training accuracies of each epoch formatted in an array of shape (num_epochs,1).\n",
    "               Second position, training loss of each epoch formatted in an array of shape (num_epochs,1).\n",
    "               third position, validation accuracy of each epoch formatted in an array of shape (num_epochs,1).\n",
    "               \n",
    "    \"\"\"\n",
    "\n",
    "  \n",
    "    return accuracy,loss_list,val_accuracy"
   ]
  },
  {
   "cell_type": "code",
   "execution_count": 11,
   "metadata": {
    "colab": {},
    "colab_type": "code",
    "id": "RLlMhNt7vQxR"
   },
   "outputs": [],
   "source": [
    "def test_NN(neural_network, test_loader, loss_function):\n",
    "  \n",
    "    \"\"\"\n",
    "    Runs experiment on the model neural network given a test loader, loss function and optimizer.\n",
    "\n",
    "    Args:\n",
    "        neural_network (NN model that extends torch.nn.Module): For example, it should take an instance of either\n",
    "                                                                FeedForwardNN or ConvolutionalNN,\n",
    "        test_loader (DataLoader), (make sure the loader is not shuffled)\n",
    "        loss_function (torch.nn.CrossEntropyLoss),\n",
    "        optimizer (your choice)\n",
    "        num_epochs (number of iterations)\n",
    "    Returns:\n",
    "        your predictions         \n",
    "    \"\"\"\n",
    "    neural_network.eval()\n",
    "    Preds = []\n",
    "    with torch.no_grad():\n",
    "        for images in test_loader:\n",
    "            check = images[0]\n",
    "            outputs = neural_network(check)\n",
    "            _, predicted = torch.max(outputs.data, 1)\n",
    "            Preds.append(predicted)\n",
    "  \n",
    "    return Preds"
   ]
  },
  {
   "cell_type": "code",
   "execution_count": 14,
   "metadata": {
    "scrolled": false
   },
   "outputs": [
    {
     "name": "stdout",
     "output_type": "stream",
     "text": [
      "2601\n"
     ]
    },
    {
     "ename": "TypeError",
     "evalue": "'float' object cannot be interpreted as an integer",
     "output_type": "error",
     "traceback": [
      "\u001b[0;31m---------------------------------------------------------------------------\u001b[0m",
      "\u001b[0;31mTypeError\u001b[0m                                 Traceback (most recent call last)",
      "\u001b[0;32m<ipython-input-14-4726d57ea90f>\u001b[0m in \u001b[0;36m<module>\u001b[0;34m\u001b[0m\n\u001b[1;32m      1\u001b[0m \u001b[0mX\u001b[0m\u001b[0;34m,\u001b[0m\u001b[0my\u001b[0m \u001b[0;34m=\u001b[0m \u001b[0mextract_data\u001b[0m\u001b[0;34m(\u001b[0m\u001b[0;34m'data/images_train.npy'\u001b[0m\u001b[0;34m,\u001b[0m \u001b[0;34m'data/labels_train.npy'\u001b[0m\u001b[0;34m)\u001b[0m\u001b[0;34m\u001b[0m\u001b[0;34m\u001b[0m\u001b[0m\n\u001b[1;32m      2\u001b[0m \u001b[0;34m\u001b[0m\u001b[0m\n\u001b[0;32m----> 3\u001b[0;31m \u001b[0mnew_x_train\u001b[0m\u001b[0;34m,\u001b[0m\u001b[0mnew_y_train\u001b[0m\u001b[0;34m,\u001b[0m\u001b[0mx_val\u001b[0m\u001b[0;34m,\u001b[0m\u001b[0my_val\u001b[0m \u001b[0;34m=\u001b[0m \u001b[0mcreate_validation\u001b[0m\u001b[0;34m(\u001b[0m\u001b[0mX\u001b[0m\u001b[0;34m,\u001b[0m\u001b[0my\u001b[0m\u001b[0;34m)\u001b[0m\u001b[0;34m\u001b[0m\u001b[0;34m\u001b[0m\u001b[0m\n\u001b[0m\u001b[1;32m      4\u001b[0m \u001b[0;34m\u001b[0m\u001b[0m\n\u001b[1;32m      5\u001b[0m \u001b[0mprint\u001b[0m\u001b[0;34m(\u001b[0m\u001b[0mnew_x_train\u001b[0m\u001b[0;34m.\u001b[0m\u001b[0mshape\u001b[0m\u001b[0;34m)\u001b[0m\u001b[0;34m\u001b[0m\u001b[0;34m\u001b[0m\u001b[0m\n",
      "\u001b[0;32m<ipython-input-13-e75c30c93d34>\u001b[0m in \u001b[0;36mcreate_validation\u001b[0;34m(x_train, y_train)\u001b[0m\n\u001b[1;32m      9\u001b[0m     \u001b[0mdata_length\u001b[0m \u001b[0;34m=\u001b[0m \u001b[0mlen\u001b[0m\u001b[0;34m(\u001b[0m\u001b[0mx_train\u001b[0m\u001b[0;34m)\u001b[0m\u001b[0;34m\u001b[0m\u001b[0;34m\u001b[0m\u001b[0m\n\u001b[1;32m     10\u001b[0m     \u001b[0mprint\u001b[0m\u001b[0;34m(\u001b[0m\u001b[0mdata_length\u001b[0m\u001b[0;34m)\u001b[0m\u001b[0;34m\u001b[0m\u001b[0;34m\u001b[0m\u001b[0m\n\u001b[0;32m---> 11\u001b[0;31m     \u001b[0mtrain_range\u001b[0m \u001b[0;34m=\u001b[0m \u001b[0mrange\u001b[0m\u001b[0;34m(\u001b[0m\u001b[0;36m0\u001b[0m\u001b[0;34m,\u001b[0m\u001b[0;36m0.8\u001b[0m\u001b[0;34m*\u001b[0m\u001b[0mdata_length\u001b[0m\u001b[0;34m)\u001b[0m\u001b[0;34m\u001b[0m\u001b[0;34m\u001b[0m\u001b[0m\n\u001b[0m\u001b[1;32m     12\u001b[0m     \u001b[0mvalid_range\u001b[0m \u001b[0;34m=\u001b[0m \u001b[0mrange\u001b[0m\u001b[0;34m(\u001b[0m\u001b[0;36m8\u001b[0m\u001b[0;34m*\u001b[0m\u001b[0mdata_length\u001b[0m\u001b[0;34m,\u001b[0m\u001b[0mdata_length\u001b[0m\u001b[0;34m)\u001b[0m\u001b[0;34m\u001b[0m\u001b[0;34m\u001b[0m\u001b[0m\n\u001b[1;32m     13\u001b[0m     \u001b[0mget_data\u001b[0m \u001b[0;34m=\u001b[0m \u001b[0mDataset\u001b[0m\u001b[0;34m(\u001b[0m\u001b[0mx_train\u001b[0m\u001b[0;34m,\u001b[0m\u001b[0my_train\u001b[0m\u001b[0;34m)\u001b[0m\u001b[0;34m\u001b[0m\u001b[0;34m\u001b[0m\u001b[0m\n",
      "\u001b[0;31mTypeError\u001b[0m: 'float' object cannot be interpreted as an integer"
     ]
    }
   ],
   "source": [
    "X,y = extract_data('data/images_train.npy', 'data/labels_train.npy')\n",
    "\n",
    "new_x_train,new_y_train,x_val,y_val = create_validation(X,y)\n",
    "\n",
    "print(new_x_train.shape)\n",
    "\n",
    "\n",
    "if torch.cuda.is_available():\n",
    "    X_total = torch.from_numpy(X).float().cuda()\n",
    "    y_total = torch.from_numpy(y).long().cuda()\n",
    "else:\n",
    "    X_total = torch.from_numpy(X).float()\n",
    "    y_total = torch.from_numpy(y).long()\n",
    "\n",
    "train_data_set = TensorDataset(new_x_train,new_y_train)\n",
    "total_data_set = TensorDataset(X_total,y_total)\n",
    "valid_data_set = TensorDataset(x_val,y_val)\n",
    "\n",
    "\n",
    "total_loader = DataLoader(dataset = total_data_set, batch_size = 64, shuffle = True)\n",
    "train_loader = DataLoader(dataset = train_data_set, batch_size = 64, shuffle = True)\n",
    "valid_loader = DataLoader(dataset = valid_data_set, batch_size = 64, shuffle = True)\n",
    "\n"
   ]
  },
  {
   "cell_type": "code",
   "execution_count": 16,
   "metadata": {
    "colab": {},
    "colab_type": "code",
    "id": "lDQrfJXSv9iY",
    "scrolled": false
   },
   "outputs": [
    {
     "name": "stdout",
     "output_type": "stream",
     "text": [
      "Starting the training\n",
      "40\n"
     ]
    }
   ],
   "source": [
    "# Run Baseline FeedForward\n",
    "    \n",
    "NN_model = FeedForwardNN()\n",
    "NN_model.cuda()\n",
    "criterion = nn.CrossEntropyLoss()\n",
    "criterion.cuda()\n",
    "optimizer = torch.optim.Adagrad(NN_model.parameters(),lr = 0.001)\n",
    "# optimizer.cuda()\n",
    "epochs = 40\n",
    "accuracy_list,loss_list,val_list = train_val_NN(NN_model,train_loader, valid_loader, criterion,optimizer,epochs)\n",
    "print(len(accuracy_list))"
   ]
  },
  {
   "cell_type": "code",
   "execution_count": 23,
   "metadata": {},
   "outputs": [
    {
     "name": "stdout",
     "output_type": "stream",
     "text": [
      "[0.42424242424242425, 0.3333333333333333, 0.5151515151515151, 0.48484848484848486, 0.45454545454545453, 0.45454545454545453, 0.45454545454545453, 0.6363636363636364, 0.3333333333333333, 0.45454545454545453, 0.15151515151515152, 0.5454545454545454, 0.48484848484848486, 0.5151515151515151, 0.48484848484848486, 0.5454545454545454, 0.48484848484848486, 0.45454545454545453, 0.5757575757575758, 0.5454545454545454, 0.5151515151515151, 0.5757575757575758, 0.5757575757575758, 0.6363636363636364, 0.5757575757575758, 0.5151515151515151, 0.48484848484848486, 0.5757575757575758, 0.48484848484848486, 0.5757575757575758, 0.6060606060606061, 0.5454545454545454, 0.6060606060606061, 0.6060606060606061, 0.48484848484848486, 0.6363636363636364, 0.6363636363636364, 0.5151515151515151, 0.6060606060606061, 0.5454545454545454]\n",
      "[2.3068349361419678, 1.6442079544067383, 1.2268002033233643, 1.3394052982330322, 1.5170536041259766, 1.3364932537078857, 1.2589256763458252, 1.156672716140747, 1.4374631643295288, 1.1645179986953735, 1.6722214221954346, 0.9988879561424255, 1.1429121494293213, 1.2853617668151855, 1.3500738143920898, 1.1290360689163208, 1.3407679796218872, 1.2292543649673462, 1.2117303609848022, 1.188205599784851, 1.12069833278656, 1.1224946975708008, 1.0944087505340576, 1.1719988584518433, 1.1087011098861694, 1.2089163064956665, 1.309019923210144, 1.217158555984497, 1.244576096534729, 1.0515981912612915, 1.0500500202178955, 1.1182464361190796, 1.0732717514038086, 1.0689321756362915, 1.1352050304412842, 1.0700281858444214, 1.0895239114761353, 1.1189736127853394, 1.0624101161956787, 1.0838042497634888]\n",
      "[0.625, 0.5, 0.375, 0.375, 0.375, 0.5, 0.625, 0.25, 0.5, 0.625, 0.5, 0.625, 0.75, 0.75, 0.375, 0.25, 0.375, 0.25, 0.625, 0.25, 0.25, 0.375, 0.75, 0.375, 0.75, 0.625, 0.75, 0.625, 0.625, 0.625, 0.5, 0.5, 0.5, 0.25, 0.875, 0.625, 0.375, 0.625, 0.75, 0.625]\n"
     ]
    },
    {
     "data": {
      "text/plain": [
       "[<matplotlib.lines.Line2D at 0x7f677e2f0e48>]"
      ]
     },
     "execution_count": 23,
     "metadata": {},
     "output_type": "execute_result"
    },
    {
     "data": {
      "image/png": "[encoded data removed]",
      "text/plain": [
       "<Figure size 432x288 with 1 Axes>"
      ]
     },
     "metadata": {
      "needs_background": "light"
     },
     "output_type": "display_data"
    }
   ],
   "source": [
    "print(accuracy_list)\n",
    "print(loss_list)\n",
    "print(val_list)\n",
    "epoch_list = range(1,41)\n",
    "PLT.plot(epoch_list,accuracy_list)\n",
    "# PLT.plot(epoch_list,loss_list)\n",
    "PLT.plot(epoch_list,val_list)"
   ]
  },
  {
   "cell_type": "code",
   "execution_count": 24,
   "metadata": {
    "colab": {},
    "colab_type": "code",
    "id": "DK0rXwRdv-PC"
   },
   "outputs": [
    {
     "name": "stdout",
     "output_type": "stream",
     "text": [
      "Starting the training\n"
     ]
    }
   ],
   "source": [
    "# Run Baseline CNN\n",
    "CNN_model = ConvolutionalNN()\n",
    "CNN_model.cuda()\n",
    "criterion = nn.CrossEntropyLoss()\n",
    "criterion.cuda()\n",
    "optimizer = torch.optim.Adagrad(CNN_model.parameters(),lr = 0.001)\n",
    "epochs = 40\n",
    "accuracy_list,loss_list,val_list = train_val_NN(CNN_model,train_loader, valid_loader, criterion,optimizer,epochs)\n",
    "\n"
   ]
  },
  {
   "cell_type": "code",
   "execution_count": 25,
   "metadata": {},
   "outputs": [
    {
     "name": "stdout",
     "output_type": "stream",
     "text": [
      "[0.3939393939393939, 0.3939393939393939, 0.5151515151515151, 0.3939393939393939, 0.36363636363636365, 0.5151515151515151, 0.5151515151515151, 0.6363636363636364, 0.5151515151515151, 0.6060606060606061, 0.45454545454545453, 0.5454545454545454, 0.696969696969697, 0.5757575757575758, 0.45454545454545453, 0.6060606060606061, 0.7575757575757576, 0.6666666666666666, 0.6060606060606061, 0.5151515151515151, 0.6363636363636364, 0.6363636363636364, 0.48484848484848486, 0.696969696969697, 0.5151515151515151, 0.6060606060606061, 0.6060606060606061, 0.5757575757575758, 0.5454545454545454, 0.36363636363636365, 0.6060606060606061, 0.6363636363636364, 0.5454545454545454, 0.48484848484848486, 0.6060606060606061, 0.5454545454545454, 0.696969696969697, 0.6363636363636364, 0.45454545454545453, 0.6060606060606061]\n",
      "[1.5215826034545898, 1.3501688241958618, 1.2703990936279297, 1.3047312498092651, 1.4775670766830444, 1.259323000907898, 1.3204069137573242, 1.200195550918579, 1.1268352270126343, 1.0302435159683228, 1.195349931716919, 1.1656138896942139, 0.8959397077560425, 1.047204852104187, 1.3047075271606445, 1.0488359928131104, 0.9017748832702637, 1.1923099756240845, 1.0293521881103516, 0.9422279596328735, 0.9964718818664551, 1.1354385614395142, 1.2527961730957031, 1.0327625274658203, 1.1974468231201172, 0.9939159154891968, 0.9035589098930359, 0.9925103783607483, 1.0377250909805298, 1.3707945346832275, 0.9585197567939758, 1.0266298055648804, 1.0788288116455078, 1.1616220474243164, 1.0167511701583862, 1.0233309268951416, 0.8246599435806274, 0.957672119140625, 1.1087703704833984, 1.0566903352737427]\n",
      "[0.375, 0.375, 0.375, 0.5, 0.5, 0.75, 0.375, 0.375, 0.625, 0.625, 0.5, 0.5, 0.375, 0.625, 0.75, 0.375, 0.5, 0.5, 0.625, 0.875, 0.75, 0.5, 0.375, 0.5, 0.375, 0.75, 0.5, 0.75, 0.875, 0.75, 0.75, 0.5, 0.25, 0.75, 0.625, 0.75, 0.5, 0.625, 0.375, 0.625]\n"
     ]
    },
    {
     "data": {
      "text/plain": [
       "[<matplotlib.lines.Line2D at 0x7f67990b79e8>]"
      ]
     },
     "execution_count": 25,
     "metadata": {},
     "output_type": "execute_result"
    },
    {
     "data": {
      "image/png": "[encoded data removed]",
      "text/plain": [
       "<Figure size 432x288 with 1 Axes>"
      ]
     },
     "metadata": {
      "needs_background": "light"
     },
     "output_type": "display_data"
    }
   ],
   "source": [
    "print(accuracy_list)\n",
    "print(loss_list)\n",
    "print(val_list)\n",
    "epoch_list = range(1,41)\n",
    "PLT.plot(epoch_list,accuracy_list)\n",
    "# PLT.plot(epoch_list,loss_list)\n",
    "PLT.plot(epoch_list,val_list)"
   ]
  },
  {
   "cell_type": "code",
   "execution_count": null,
   "metadata": {},
   "outputs": [],
   "source": []
  },
  {
   "cell_type": "code",
   "execution_count": 26,
   "metadata": {
    "colab": {},
    "colab_type": "code",
    "id": "gojhzqhrwAxk"
   },
   "outputs": [
    {
     "name": "stdout",
     "output_type": "stream",
     "text": [
      "Starting the training\n",
      "40\n"
     ]
    }
   ],
   "source": [
    "# Run optimized CNN on Normilized Images\n",
    "\n",
    "OCNN_model = OptimizedNN()\n",
    "OCNN_model.cuda()\n",
    "criterion = nn.CrossEntropyLoss()\n",
    "criterion.cuda()\n",
    "optimizer = torch.optim.Adam(OCNN_model.parameters(),lr = 0.001)\n",
    "epochs = 40\n",
    "accuracy_list,loss_list,val_list = train_val_NN(OCNN_model,train_loader, valid_loader, criterion,optimizer,epochs)\n",
    "print(len(accuracy_list))\n"
   ]
  },
  {
   "cell_type": "code",
   "execution_count": 28,
   "metadata": {},
   "outputs": [
    {
     "name": "stdout",
     "output_type": "stream",
     "text": [
      "[0.3333333333333333, 0.5454545454545454, 0.48484848484848486, 0.5757575757575758, 0.45454545454545453, 0.48484848484848486, 0.6666666666666666, 0.5454545454545454, 0.5454545454545454, 0.5757575757575758, 0.48484848484848486, 0.696969696969697, 0.696969696969697, 0.7575757575757576, 0.6666666666666666, 0.7878787878787878, 0.696969696969697, 0.9393939393939394, 0.8181818181818182, 0.7878787878787878, 0.9696969696969697, 0.8787878787878788, 0.7878787878787878, 0.8181818181818182, 0.8484848484848485, 0.9696969696969697, 1.0, 0.8181818181818182, 0.9090909090909091, 0.8787878787878788, 0.9393939393939394, 0.9393939393939394, 0.9393939393939394, 0.9696969696969697, 0.9696969696969697, 1.0, 0.9696969696969697, 0.9393939393939394, 1.0, 0.9696969696969697]\n",
      "[1.4879857301712036, 1.334525465965271, 1.3198188543319702, 1.2746834754943848, 1.2433176040649414, 1.231563687324524, 0.9314275979995728, 1.2382380962371826, 0.8938521146774292, 0.8854995369911194, 1.2681374549865723, 0.6504443287849426, 0.8622920513153076, 0.6421356201171875, 0.7417805194854736, 0.5232802629470825, 0.7315341234207153, 0.3183276057243347, 0.5439739227294922, 0.6752533316612244, 0.22569870948791504, 0.3021319508552551, 0.47365304827690125, 0.53159099817276, 0.6510936617851257, 0.16471615433692932, 0.12636689841747284, 0.44086942076683044, 0.40363144874572754, 0.34220442175865173, 0.12931260466575623, 0.208910271525383, 0.1416391283273697, 0.09778346866369247, 0.19259047508239746, 0.04885394126176834, 0.12494221329689026, 0.23487788438796997, 0.06541904807090759, 0.0799344927072525]\n",
      "[0.625, 0.5, 0.625, 0.625, 0.75, 0.5, 0.375, 0.625, 0.375, 0.5, 0.75, 0.375, 0.625, 0.75, 0.75, 0.375, 0.75, 0.875, 0.75, 0.5, 0.5, 0.75, 0.625, 0.75, 0.625, 0.625, 0.625, 0.875, 0.875, 0.75, 0.625, 0.875, 0.375, 0.75, 0.75, 0.625, 0.25, 0.625, 0.5, 0.875]\n"
     ]
    },
    {
     "data": {
      "text/plain": [
       "[<matplotlib.lines.Line2D at 0x7f677e161048>]"
      ]
     },
     "execution_count": 28,
     "metadata": {},
     "output_type": "execute_result"
    },
    {
     "data": {
      "image/png": "[encoded data removed]",
      "text/plain": [
       "<Figure size 432x288 with 1 Axes>"
      ]
     },
     "metadata": {
      "needs_background": "light"
     },
     "output_type": "display_data"
    }
   ],
   "source": [
    "print(accuracy_list)\n",
    "print(loss_list)\n",
    "print(val_list)\n",
    "epoch_list = range(1,41)\n",
    "# PLT.plot(epoch_list,accuracy_list)\n",
    "PLT.plot(epoch_list,loss_list)\n",
    "# PLT.plot(epoch_list,val_list)"
   ]
  },
  {
   "cell_type": "code",
   "execution_count": 85,
   "metadata": {
    "colab": {},
    "colab_type": "code",
    "id": "Ioni3nPfwEIE",
    "scrolled": true
   },
   "outputs": [
    {
     "name": "stdout",
     "output_type": "stream",
     "text": [
      "Starting the training\n",
      "Epoch [1/40], Step [41/41], Loss: 1.5580, Accuracy: 41.46%\n",
      "Epoch [2/40], Step [41/41], Loss: 1.4320, Accuracy: 31.71%\n",
      "Epoch [3/40], Step [41/41], Loss: 1.2666, Accuracy: 56.10%\n",
      "Epoch [4/40], Step [41/41], Loss: 1.0496, Accuracy: 56.10%\n",
      "Epoch [5/40], Step [41/41], Loss: 1.1677, Accuracy: 56.10%\n",
      "Epoch [6/40], Step [41/41], Loss: 0.8942, Accuracy: 63.41%\n",
      "Epoch [7/40], Step [41/41], Loss: 0.9170, Accuracy: 60.98%\n",
      "Epoch [8/40], Step [41/41], Loss: 0.8506, Accuracy: 65.85%\n",
      "Epoch [9/40], Step [41/41], Loss: 0.7683, Accuracy: 65.85%\n",
      "Epoch [10/40], Step [41/41], Loss: 0.6526, Accuracy: 75.61%\n",
      "Epoch [11/40], Step [41/41], Loss: 0.8145, Accuracy: 75.61%\n",
      "Epoch [12/40], Step [41/41], Loss: 0.5655, Accuracy: 78.05%\n",
      "Epoch [13/40], Step [41/41], Loss: 0.8486, Accuracy: 68.29%\n",
      "Epoch [14/40], Step [41/41], Loss: 0.6016, Accuracy: 80.49%\n",
      "Epoch [15/40], Step [41/41], Loss: 0.6693, Accuracy: 78.05%\n",
      "Epoch [16/40], Step [41/41], Loss: 0.5929, Accuracy: 78.05%\n",
      "Epoch [17/40], Step [41/41], Loss: 0.6228, Accuracy: 82.93%\n",
      "Epoch [18/40], Step [41/41], Loss: 0.5396, Accuracy: 87.80%\n",
      "Epoch [19/40], Step [41/41], Loss: 0.4750, Accuracy: 82.93%\n",
      "Epoch [20/40], Step [41/41], Loss: 0.5661, Accuracy: 75.61%\n",
      "Epoch [21/40], Step [41/41], Loss: 0.5081, Accuracy: 82.93%\n",
      "Epoch [22/40], Step [41/41], Loss: 0.4540, Accuracy: 82.93%\n",
      "Epoch [23/40], Step [41/41], Loss: 0.4705, Accuracy: 82.93%\n",
      "Epoch [24/40], Step [41/41], Loss: 0.2525, Accuracy: 95.12%\n",
      "Epoch [25/40], Step [41/41], Loss: 0.4005, Accuracy: 87.80%\n",
      "Epoch [26/40], Step [41/41], Loss: 0.6143, Accuracy: 78.05%\n",
      "Epoch [27/40], Step [41/41], Loss: 0.7100, Accuracy: 82.93%\n",
      "Epoch [28/40], Step [41/41], Loss: 0.2642, Accuracy: 92.68%\n",
      "Epoch [29/40], Step [41/41], Loss: 0.3589, Accuracy: 85.37%\n",
      "Epoch [30/40], Step [41/41], Loss: 0.2382, Accuracy: 95.12%\n",
      "Epoch [31/40], Step [41/41], Loss: 0.4425, Accuracy: 82.93%\n",
      "Epoch [32/40], Step [41/41], Loss: 0.4793, Accuracy: 82.93%\n",
      "Epoch [33/40], Step [41/41], Loss: 0.4808, Accuracy: 80.49%\n",
      "Epoch [34/40], Step [41/41], Loss: 0.2069, Accuracy: 95.12%\n",
      "Epoch [35/40], Step [41/41], Loss: 0.4073, Accuracy: 82.93%\n",
      "Epoch [36/40], Step [41/41], Loss: 0.3603, Accuracy: 87.80%\n",
      "Epoch [37/40], Step [41/41], Loss: 0.2317, Accuracy: 90.24%\n",
      "Epoch [38/40], Step [41/41], Loss: 0.1789, Accuracy: 95.12%\n",
      "Epoch [39/40], Step [41/41], Loss: 0.3276, Accuracy: 87.80%\n",
      "Epoch [40/40], Step [41/41], Loss: 0.3132, Accuracy: 85.37%\n",
      "Test Accuracy of the model on the validation images: 98.4375 %\n",
      "Test Accuracy of the model on the validation images: 95.3125 %\n",
      "Test Accuracy of the model on the validation images: 90.625 %\n",
      "Test Accuracy of the model on the validation images: 100.0 %\n",
      "Test Accuracy of the model on the validation images: 93.75 %\n",
      "Test Accuracy of the model on the validation images: 96.875 %\n",
      "Test Accuracy of the model on the validation images: 93.75 %\n",
      "Test Accuracy of the model on the validation images: 98.4375 %\n",
      "Test Accuracy of the model on the validation images: 75.0 %\n"
     ]
    }
   ],
   "source": [
    "OCNNT_model = OptimizedNN()\n",
    "OCNNT_model.cuda()\n",
    "criterion = nn.CrossEntropyLoss()\n",
    "criterion.cuda()\n",
    "optimizer = torch.optim.Adam(OCNNT_model.parameters(),lr = 0.001)\n",
    "epochs = 40\n",
    "accuracy_list,loss_list,val_list = train_val_NN(OCNNT_model,total_loader, valid_loader, criterion,optimizer,epochs)\n",
    "test_data = np.load('data/images_test.npy')\n",
    "test_data = torch.from_numpy(test_data).float().cuda()\n",
    "# torch.tensor(test_data, dtype = torch.float32)\n",
    "test_dataset = torch.utils.data.TensorDataset(test_data)\n",
    "test_loader = DataLoader(test_dataset, batch_size=32)\n",
    "predicted = test_NN(OCNNT_model, test_loader, criterion)"
   ]
  },
  {
   "cell_type": "code",
   "execution_count": 86,
   "metadata": {},
   "outputs": [],
   "source": [
    "import numpy as np\n",
    "# print(list(predicted[0].shape)[0])\n",
    "with open('HW4_preds.txt', 'w', encoding = 'utf8') as file:\n",
    "    for i in range(len(predicted)):\n",
    "        tensor = predicted[i]\n",
    "        for n in range(list(predicted[i].shape)[0]):\n",
    "            file.write(str(predicted[i][n].item())+'\\n')"
   ]
  },
  {
   "cell_type": "code",
   "execution_count": null,
   "metadata": {},
   "outputs": [],
   "source": []
  }
 ],
 "metadata": {
  "colab": {
   "collapsed_sections": [],
   "name": "HW4.ipynb",
   "provenance": [],
   "version": "0.3.2"
  },
  "kernelspec": {
   "display_name": "Python 3",
   "language": "python",
   "name": "python3"
  },
  "language_info": {
   "codemirror_mode": {
    "name": "ipython",
    "version": 3
   },
   "file_extension": ".py",
   "mimetype": "text/x-python",
   "name": "python",
   "nbconvert_exporter": "python",
   "pygments_lexer": "ipython3",
   "version": "3.7.1"
  }
 },
 "nbformat": 4,
 "nbformat_minor": 1
}
