{
 "cells": [
  {
   "cell_type": "code",
   "execution_count": 1,
   "metadata": {
    "colab": {},
    "colab_type": "code",
    "id": "G8JILDxrsgPY"
   },
   "outputs": [],
   "source": [
    "import numpy as np\n",
    "import torch\n",
    "import torch.nn as nn\n",
    "import torch.nn.functional as F\n",
    "import torch.optim as optim\n",
    "from torch.utils.data import Dataset, DataLoader, TensorDataset\n",
    "from torch.autograd import Variable\n",
    "from torchvision import transforms\n",
    "from matplotlib import pyplot as PLT\n",
    "#from google.colab import drive                IF you are using COLAB"
   ]
  },
  {
   "cell_type": "code",
   "execution_count": null,
   "metadata": {
    "colab": {},
    "colab_type": "code",
    "id": "yKixUdldszgx"
   },
   "outputs": [],
   "source": []
  },
  {
   "cell_type": "code",
   "execution_count": 2,
   "metadata": {
    "colab": {},
    "colab_type": "code",
    "id": "HApL-cvBs1Ah"
   },
   "outputs": [],
   "source": [
    "def extract_data(x_data_filepath, y_data_filepath):\n",
    "    X = np.load(x_data_filepath)\n",
    "    y = np.load(y_data_filepath)\n",
    "    return X, y"
   ]
  },
  {
   "cell_type": "code",
   "execution_count": 3,
   "metadata": {
    "colab": {},
    "colab_type": "code",
    "id": "k_mCkbFV1bq9"
   },
   "outputs": [],
   "source": [
    "def data_visualization(images,labels):\n",
    "    \n",
    "    for i in range(5):\n",
    "        index = np.where(labels==i)\n",
    "        X_v = images[index]\n",
    "        for r in range(7):\n",
    "            im_show = X_v[r]\n",
    "            im_show = im_show.reshape((64,85,3))\n",
    "            PLT.imshow(im_show)\n",
    "            PLT.show\n",
    "\n",
    "    \n",
    "    \"\"\"\n",
    "    Visualize 6 pictures per class using your prefered visulization library (matplotlib, etc)\n",
    "\n",
    "    Args:\n",
    "        images: training images in shape (num_images,3,image_H,image_W)\n",
    "        labels: training labels in shape (num_images,)\n",
    "    \"\"\""
   ]
  },
  {
   "cell_type": "code",
   "execution_count": 4,
   "metadata": {
    "colab": {},
    "colab_type": "code",
    "id": "TnttiXoks2sn"
   },
   "outputs": [],
   "source": [
    "############################################################\n",
    "# Extracting and loading data\n",
    "############################################################\n",
    "class Dataset(Dataset):\n",
    "    def __init__(self, X, y):\n",
    "        self.len = len(X)           \n",
    "        if torch.cuda.is_available():\n",
    "            self.x_data = torch.from_numpy(X).float().cuda()\n",
    "            self.y_data = torch.from_numpy(y).long().cuda()\n",
    "        else:\n",
    "            self.x_data = torch.from_numpy(X).float()\n",
    "            self.y_data = torch.from_numpy(y).long()\n",
    "    def __len__(self):\n",
    "        return self.len\n",
    "    def __getitem__(self, idx):\n",
    "        return self.x_data[idx], self.y_data[idx]"
   ]
  },
  {
   "cell_type": "code",
   "execution_count": 5,
   "metadata": {
    "colab": {},
    "colab_type": "code",
    "id": "s2LxFInms4ks"
   },
   "outputs": [],
   "source": [
    "def create_validation(x_train,y_train):\n",
    "    \n",
    "#     new_x_train = x_train[0:2081]\n",
    "#     new_y_train = y_train[0:2081]\n",
    "    \n",
    "#     x_val = x_train[2081:2601]\n",
    "#     y_val = y_train[2081:2601]\n",
    "\n",
    "    data_length = len(x_train)\n",
    "    \n",
    "    train_range = range(0,round(0.8*data_length))\n",
    "    valid_range = range(round(0.8*data_length),data_length)\n",
    "    get_data = Dataset(x_train,y_train)\n",
    "    \n",
    "    new_x_train,new_y_train = get_data.__getitem__(train_range) \n",
    "                                                   \n",
    "    x_val,y_val = get_data.__getitem__(valid_range) \n",
    "    \n",
    "    \"\"\"\n",
    "    Randomly choose 20 percent of the training data as validation data.\n",
    "\n",
    "    Args:\n",
    "        x_train: training images in shape (num_images,3,image_H,image_W)\n",
    "        y_train: training labels in shape (num_images,)\n",
    "    Returns:\n",
    "        new_x_train: training images in shape (0.8*num_images,3,image_H,image_W)\n",
    "        new_y_train: training labels in shape (0.8*num_images,)\n",
    "        x_val: validation images in shape (0.2*num_images,3,image_H,image_W)\n",
    "        y_val: validation labels in shape (0.2*num_images,)\n",
    "    \"\"\"\n",
    "    return new_x_train,new_y_train,x_val,y_val"
   ]
  },
  {
   "cell_type": "code",
   "execution_count": 6,
   "metadata": {
    "colab": {},
    "colab_type": "code",
    "id": "812xDSEms72t"
   },
   "outputs": [],
   "source": [
    "############################################################\n",
    "# Feed Forward Neural Network\n",
    "############################################################\n",
    "class FeedForwardNN(nn.Module):\n",
    "    \"\"\" \n",
    "        (1) Use self.fc1 as the variable name for your first fully connected layer\n",
    "        (2) Use self.fc2 as the variable name for your second fully connected layer\n",
    "    \"\"\"\n",
    "    def __init__(self):\n",
    "        \n",
    "        super().__init__()\n",
    "        self.fc1 = nn.Linear(16320,2000);\n",
    "        self.fc2 = nn.Linear(2000,5)\n",
    "\n",
    "    def forward(self, x):\n",
    "        \n",
    "        x = x.view(x.size(0),-1)\n",
    "        x = self.fc1(x)\n",
    "        x = F.relu(x)\n",
    "        out = self.fc2(x)\n",
    "\n",
    "        return out\n",
    "\n",
    "    \"\"\" \n",
    "        Please do not change the functions below. \n",
    "        They will be used to test the correctness of your implementation \n",
    "    \"\"\"\n",
    "    def get_fc1_params(self):\n",
    "        return self.fc1.__repr__()\n",
    "    \n",
    "    def get_fc2_params(self):\n",
    "        return self.fc2.__repr__()"
   ]
  },
  {
   "cell_type": "code",
   "execution_count": 39,
   "metadata": {
    "colab": {},
    "colab_type": "code",
    "id": "0NXchxSvtEdz"
   },
   "outputs": [],
   "source": [
    "############################################################\n",
    "# Convolutional Neural Network\n",
    "############################################################\n",
    "class ConvolutionalNN(nn.Module):\n",
    "    \"\"\" \n",
    "        (1) Use self.conv1 as the variable name for your first convolutional layer\n",
    "        (2) Use self.pool1 as the variable name for your first pooling layer\n",
    "        (3) Use self.conv2 as the variable name for your second convolutional layer\n",
    "        (4) Use self.pool2 as the variable name for you second pooling layer  \n",
    "        (5) Use self.fc1 as the variable name for your first fully connected laye\n",
    "        (6) Use self.fc2 as the variable name for your second fully connected layer\n",
    "    \"\"\"\n",
    "    def __init__(self):\n",
    "        super(ConvolutionalNN,self).__init__()\n",
    "        \n",
    "        self.conv1 = nn.Conv2d(3,16,kernel_size = 3, stride = 1, padding = 0)\n",
    "        self.pool1 = nn.MaxPool2d(kernel_size = 2)\n",
    "        self.conv2 = nn.Conv2d(16,32,kernel_size = 3, stride = 1, padding = 0)\n",
    "        self.pool2 = nn.MaxPool2d(kernel_size = 2)\n",
    "        self.dropout = nn.Dropout()\n",
    "        self.fc1 = nn.Linear(32*14*19,200)\n",
    "        self.fc2 = nn.Linear(200,5)\n",
    "        \n",
    "      \n",
    "    def forward(self, x):\n",
    "#         x_numpy = x.cpu().numpy()\n",
    "#         x = normalize_image(x_numpy)\n",
    "#         x = torch.from_numpy(x).cuda()\n",
    "        x = self.conv1(x)\n",
    "        x = F.relu(x)\n",
    "        x = self.pool1(x)\n",
    "        x = self.conv2(x)\n",
    "        x = F.relu(x)\n",
    "        x = self.pool2(x)\n",
    "        out = x.reshape(x.size(0),-1)\n",
    "        out = self.dropout(out)\n",
    "        out = self.fc1(out)\n",
    "        out = F.relu(out)\n",
    "        out = self.fc2(out)\n",
    "        \n",
    "        return out\n",
    "      \n",
    "    \"\"\" \n",
    "        Please do not change the functions below. \n",
    "        They will be used to test the correctness of your implementation\n",
    "    \"\"\"\n",
    "    \n",
    "    def get_conv1_params(self):\n",
    "        return self.conv1.__repr__()\n",
    "    \n",
    "    def get_pool1_params(self):\n",
    "        return self.pool1.__repr__()\n",
    "\n",
    "    def get_conv2_params(self):\n",
    "        return self.conv2.__repr__()\n",
    "      \n",
    "    def get_pool2_params(self):\n",
    "        return self.pool2.__repr__()\n",
    "      \n",
    "    def get_fc1_params(self):\n",
    "        return self.fc1.__repr__()\n",
    "    \n",
    "    def get_fc2_params(self):\n",
    "        return self.fc2.__repr__()"
   ]
  },
  {
   "cell_type": "code",
   "execution_count": 8,
   "metadata": {
    "colab": {},
    "colab_type": "code",
    "id": "K5hhOy6htEtC"
   },
   "outputs": [],
   "source": [
    "def normalize_image(image):\n",
    "    \n",
    "    mean_R = np.mean(image[0,:,:])\n",
    "    mean_G = np.mean(image[1,:,:])\n",
    "    mean_B = np.mean(image[2,:,:])\n",
    "    \n",
    "    std_R = np.std(image[0,:,:])\n",
    "    std_G = np.std(image[1,:,:])\n",
    "    std_B = np.std(image[2,:,:])\n",
    "    \n",
    "    norimg = image.copy()\n",
    "    \n",
    "    norimg[0,:,:] = (image[0,:,:] - mean_R)/std_R\n",
    "    norimg[1,:,:] = (image[1,:,:] - mean_G)/std_G\n",
    "    norimg[2,:,:] = (image[2,:,:] - mean_B)/std_B\n",
    "    \n",
    "    return norimg\n",
    "    \n",
    "    \n",
    "    \"\"\"\n",
    "    Normalize each input image\n",
    "\n",
    "    Args:\n",
    "        image: the input image in shape (3,image_H,image_W)\n",
    "    Returns:\n",
    "        norimg: the normalized image in the same shape as the input\n",
    "    \"\"\""
   ]
  },
  {
   "cell_type": "code",
   "execution_count": 9,
   "metadata": {
    "colab": {},
    "colab_type": "code",
    "id": "aVRyEtmQtzn2"
   },
   "outputs": [],
   "source": [
    "############################################################\n",
    "# Optimized Neural Network\n",
    "############################################################\n",
    "class OptimizedNN(nn.Module):\n",
    "    def __init__(self):\n",
    "        super(OptimizedNN, self).__init__()\n",
    "        self.conv1 = nn.Conv2d(3, 16, kernel_size = 3,stride=1, padding=0)\n",
    "        self.pool1 = nn.MaxPool2d(kernel_size = 2)\n",
    "        self.conv2 = nn.Conv2d(16, 32, kernel_size = 3,stride=1, padding=0)\n",
    "        self.pool2 = nn.MaxPool2d(kernel_size = 2)\n",
    "        self.conv3 = nn.Conv2d(32, 64, kernel_size = 3,stride=1, padding=0)\n",
    "        self.pool3 = nn.MaxPool2d(kernel_size = 2)\n",
    "        self.fc1 = nn.Linear(3072, 200)\n",
    "        self.dropout1 = nn.Dropout(p=0.5)\n",
    "        self.fc2 = nn.Linear(200, 5)\n",
    "        self.dropout2 = nn.Dropout(p=0.2)\n",
    "        \n",
    "    def forward(self, x):\n",
    "        x_numpy = x.cpu().numpy()\n",
    "        x = normalize_image(x_numpy)\n",
    "        x = torch.from_numpy(x).cuda()\n",
    "        out = F.relu(self.conv1(x))\n",
    "        out = self.pool1(out)\n",
    "        out = F.relu(self.conv2(out))\n",
    "        out = self.pool2(out)\n",
    "        out = F.relu(self.conv3(out))\n",
    "        out = self.pool3(out)\n",
    "        out = out.view(out.size(0),-1)\n",
    "        out = self.dropout1(out)\n",
    "        out = F.relu(self.fc1(out))\n",
    "        out = self.dropout2(out)\n",
    "        out = self.fc2(out)\n",
    "        return out\n",
    "      "
   ]
  },
  {
   "cell_type": "code",
   "execution_count": 44,
   "metadata": {
    "colab": {},
    "colab_type": "code",
    "id": "nQHzqYLSt-mQ"
   },
   "outputs": [],
   "source": [
    "def train_val_NN(neural_network, train_loader, validation_loader, loss_function, optimizer,num_epochs):\n",
    "    \n",
    "    total_step = len(train_loader)\n",
    "    loss_list = []\n",
    "    accuracy = []\n",
    "    val_accuracy = []\n",
    "    \n",
    "    print(\"Starting the training\")\n",
    "    \n",
    "    for epoch in range(40):\n",
    "#         print(\"Starting with the first Epoch\")\n",
    "        for i, (images, labels) in enumerate(train_loader):\n",
    "            outputs = neural_network(images)\n",
    "            loss = criterion(outputs, labels)\n",
    "            \n",
    "\n",
    "            # Backprop and perform optimisation\n",
    "            optimizer.zero_grad()\n",
    "            loss.backward()\n",
    "            optimizer.step()      \n",
    "\n",
    "            # Track the accuracy\n",
    "            total_train = labels.size(0)\n",
    "            _, predicted = torch.max(outputs.data, 1)\n",
    "            correct_train = (predicted == labels).sum().item()\n",
    "            \n",
    "            \n",
    "            #check the validation set\n",
    "            neural_network.eval()\n",
    "            with torch.no_grad():\n",
    "                correct = 0\n",
    "                total = 0\n",
    "                for images, labels in validation_loader:\n",
    "                    outputs = neural_network(images)\n",
    "                    _, predicted = torch.max(outputs.data, 1)\n",
    "                    total_val = labels.size(0)\n",
    "                    correct_val = (predicted == labels).sum().item()\n",
    "        #update lists for the accuracies and losses\n",
    "        print('For training: Epoch [{}/{}], Step [{}/{}], Loss: {:.4f}, Accuracy: {:.2f}%'\n",
    "                  .format(epoch + 1, num_epochs, i + 1, total_step, loss.item(),\n",
    "                          (correct_train / total_train) * 100))\n",
    "        loss_list.append(loss.item())\n",
    "        val_accuracy.append(correct_val / total_val)\n",
    "        accuracy.append(correct_train / total_train)\n",
    "#         print('for validation: Epoch [{}/{}], Step [{}/{}], Loss: {:.4f}, Accuracy: {:.2f}%'\n",
    "#                    .format(epoch + 1, num_epochs, i + 1, total_step, loss.item(),\n",
    "#                            (correct_val / total_val) * 100))\n",
    "    \"\"\"\n",
    "    Runs experiment on the model neural network given a train loader, loss function and optimizer and find validation accuracy for each epoch given the validation_loader.\n",
    "\n",
    "    Args:\n",
    "        neural_network (NN model that extends torch.nn.Module): For example, it should take an instance of either\n",
    "                                                                FeedForwardNN or ConvolutionalNN,\n",
    "        train_loader (DataLoader),\n",
    "        validation_loader (DataLoader),\n",
    "        loss_function (torch.nn.CrossEntropyLoss),\n",
    "        optimizer (optim.SGD)\n",
    "        num_epochs (number of iterations)\n",
    "    Returns:\n",
    "        tuple: First position, training accuracies of each epoch formatted in an array of shape (num_epochs,1).\n",
    "               Second position, training loss of each epoch formatted in an array of shape (num_epochs,1).\n",
    "               third position, validation accuracy of each epoch formatted in an array of shape (num_epochs,1).\n",
    "               \n",
    "    \"\"\"\n",
    "\n",
    "  \n",
    "    return accuracy,loss_list,val_accuracy"
   ]
  },
  {
   "cell_type": "code",
   "execution_count": 11,
   "metadata": {
    "colab": {},
    "colab_type": "code",
    "id": "RLlMhNt7vQxR"
   },
   "outputs": [],
   "source": [
    "def test_NN(neural_network, test_loader, loss_function):\n",
    "  \n",
    "    \"\"\"\n",
    "    Runs experiment on the model neural network given a test loader, loss function and optimizer.\n",
    "\n",
    "    Args:\n",
    "        neural_network (NN model that extends torch.nn.Module): For example, it should take an instance of either\n",
    "                                                                FeedForwardNN or ConvolutionalNN,\n",
    "        test_loader (DataLoader), (make sure the loader is not shuffled)\n",
    "        loss_function (torch.nn.CrossEntropyLoss),\n",
    "        optimizer (your choice)\n",
    "        num_epochs (number of iterations)\n",
    "    Returns:\n",
    "        your predictions         \n",
    "    \"\"\"\n",
    "    neural_network.eval()\n",
    "    Preds = []\n",
    "    with torch.no_grad():\n",
    "        for images in test_loader:\n",
    "            check = images[0]\n",
    "            outputs = neural_network(check)\n",
    "            _, predicted = torch.max(outputs.data, 1)\n",
    "            Preds.append(predicted)\n",
    "  \n",
    "    return Preds"
   ]
  },
  {
   "cell_type": "code",
   "execution_count": 12,
   "metadata": {
    "scrolled": false
   },
   "outputs": [
    {
     "name": "stdout",
     "output_type": "stream",
     "text": [
      "torch.Size([2081, 3, 64, 85])\n"
     ]
    }
   ],
   "source": [
    "X,y = extract_data('data/images_train.npy', 'data/labels_train.npy')\n",
    "\n",
    "new_x_train,new_y_train,x_val,y_val = create_validation(X,y)\n",
    "\n",
    "print(new_x_train.shape)\n",
    "\n",
    "\n",
    "if torch.cuda.is_available():\n",
    "    X_total = torch.from_numpy(X).float().cuda()\n",
    "    y_total = torch.from_numpy(y).long().cuda()\n",
    "else:\n",
    "    X_total = torch.from_numpy(X).float()\n",
    "    y_total = torch.from_numpy(y).long()\n",
    "\n",
    "train_data_set = TensorDataset(new_x_train,new_y_train)\n",
    "total_data_set = TensorDataset(X_total,y_total)\n",
    "valid_data_set = TensorDataset(x_val,y_val)\n",
    "\n",
    "\n",
    "total_loader = DataLoader(dataset = total_data_set, batch_size = 64, shuffle = True)\n",
    "train_loader = DataLoader(dataset = train_data_set, batch_size = 64, shuffle = True)\n",
    "valid_loader = DataLoader(dataset = valid_data_set, batch_size = 64, shuffle = True)\n",
    "\n"
   ]
  },
  {
   "cell_type": "code",
   "execution_count": 32,
   "metadata": {
    "colab": {},
    "colab_type": "code",
    "id": "lDQrfJXSv9iY",
    "scrolled": false
   },
   "outputs": [
    {
     "name": "stdout",
     "output_type": "stream",
     "text": [
      "Starting the training\n",
      "for validation: Epoch [1/40], Step [33/33], Loss: 2.0150, Accuracy: 25.00%\n",
      "for validation: Epoch [2/40], Step [33/33], Loss: 1.4697, Accuracy: 50.00%\n",
      "for validation: Epoch [3/40], Step [33/33], Loss: 1.4249, Accuracy: 25.00%\n",
      "for validation: Epoch [4/40], Step [33/33], Loss: 1.2817, Accuracy: 37.50%\n"
     ]
    },
    {
     "ename": "KeyboardInterrupt",
     "evalue": "",
     "output_type": "error",
     "traceback": [
      "\u001b[0;31m---------------------------------------------------------------------------\u001b[0m",
      "\u001b[0;31mKeyboardInterrupt\u001b[0m                         Traceback (most recent call last)",
      "\u001b[0;32m<ipython-input-32-54fb57844d8b>\u001b[0m in \u001b[0;36m<module>\u001b[0;34m\u001b[0m\n\u001b[1;32m      8\u001b[0m \u001b[0;31m# optimizer.cuda()\u001b[0m\u001b[0;34m\u001b[0m\u001b[0;34m\u001b[0m\u001b[0;34m\u001b[0m\u001b[0m\n\u001b[1;32m      9\u001b[0m \u001b[0mepochs\u001b[0m \u001b[0;34m=\u001b[0m \u001b[0;36m40\u001b[0m\u001b[0;34m\u001b[0m\u001b[0;34m\u001b[0m\u001b[0m\n\u001b[0;32m---> 10\u001b[0;31m \u001b[0maccuracy_list\u001b[0m\u001b[0;34m,\u001b[0m\u001b[0mloss_list\u001b[0m\u001b[0;34m,\u001b[0m\u001b[0mval_list\u001b[0m \u001b[0;34m=\u001b[0m \u001b[0mtrain_val_NN\u001b[0m\u001b[0;34m(\u001b[0m\u001b[0mNN_model\u001b[0m\u001b[0;34m,\u001b[0m\u001b[0mtrain_loader\u001b[0m\u001b[0;34m,\u001b[0m \u001b[0mvalid_loader\u001b[0m\u001b[0;34m,\u001b[0m \u001b[0mcriterion\u001b[0m\u001b[0;34m,\u001b[0m\u001b[0moptimizer\u001b[0m\u001b[0;34m,\u001b[0m\u001b[0mepochs\u001b[0m\u001b[0;34m)\u001b[0m\u001b[0;34m\u001b[0m\u001b[0;34m\u001b[0m\u001b[0m\n\u001b[0m\u001b[1;32m     11\u001b[0m \u001b[0mprint\u001b[0m\u001b[0;34m(\u001b[0m\u001b[0mlen\u001b[0m\u001b[0;34m(\u001b[0m\u001b[0maccuracy_list\u001b[0m\u001b[0;34m)\u001b[0m\u001b[0;34m)\u001b[0m\u001b[0;34m\u001b[0m\u001b[0;34m\u001b[0m\u001b[0m\n",
      "\u001b[0;32m<ipython-input-10-5a732c8e27c5>\u001b[0m in \u001b[0;36mtrain_val_NN\u001b[0;34m(neural_network, train_loader, validation_loader, loss_function, optimizer, num_epochs)\u001b[0m\n\u001b[1;32m     35\u001b[0m                     \u001b[0m_\u001b[0m\u001b[0;34m,\u001b[0m \u001b[0mpredicted\u001b[0m \u001b[0;34m=\u001b[0m \u001b[0mtorch\u001b[0m\u001b[0;34m.\u001b[0m\u001b[0mmax\u001b[0m\u001b[0;34m(\u001b[0m\u001b[0moutputs\u001b[0m\u001b[0;34m.\u001b[0m\u001b[0mdata\u001b[0m\u001b[0;34m,\u001b[0m \u001b[0;36m1\u001b[0m\u001b[0;34m)\u001b[0m\u001b[0;34m\u001b[0m\u001b[0;34m\u001b[0m\u001b[0m\n\u001b[1;32m     36\u001b[0m                     \u001b[0mtotal_val\u001b[0m \u001b[0;34m=\u001b[0m \u001b[0mlabels\u001b[0m\u001b[0;34m.\u001b[0m\u001b[0msize\u001b[0m\u001b[0;34m(\u001b[0m\u001b[0;36m0\u001b[0m\u001b[0;34m)\u001b[0m\u001b[0;34m\u001b[0m\u001b[0;34m\u001b[0m\u001b[0m\n\u001b[0;32m---> 37\u001b[0;31m                     \u001b[0mcorrect_val\u001b[0m \u001b[0;34m=\u001b[0m \u001b[0;34m(\u001b[0m\u001b[0mpredicted\u001b[0m \u001b[0;34m==\u001b[0m \u001b[0mlabels\u001b[0m\u001b[0;34m)\u001b[0m\u001b[0;34m.\u001b[0m\u001b[0msum\u001b[0m\u001b[0;34m(\u001b[0m\u001b[0;34m)\u001b[0m\u001b[0;34m.\u001b[0m\u001b[0mitem\u001b[0m\u001b[0;34m(\u001b[0m\u001b[0;34m)\u001b[0m\u001b[0;34m\u001b[0m\u001b[0;34m\u001b[0m\u001b[0m\n\u001b[0m\u001b[1;32m     38\u001b[0m         \u001b[0;31m#update lists for the accuracies and losses\u001b[0m\u001b[0;34m\u001b[0m\u001b[0;34m\u001b[0m\u001b[0;34m\u001b[0m\u001b[0m\n\u001b[1;32m     39\u001b[0m \u001b[0;31m#         print('For training: Epoch [{}/{}], Step [{}/{}], Loss: {:.4f}, Accuracy: {:.2f}%'\u001b[0m\u001b[0;34m\u001b[0m\u001b[0;34m\u001b[0m\u001b[0;34m\u001b[0m\u001b[0m\n",
      "\u001b[0;31mKeyboardInterrupt\u001b[0m: "
     ]
    }
   ],
   "source": [
    "# Run Baseline FeedForward\n",
    "    \n",
    "NN_model = FeedForwardNN()\n",
    "NN_model.cuda()\n",
    "criterion = nn.CrossEntropyLoss()\n",
    "criterion.cuda()\n",
    "optimizer = torch.optim.Adagrad(NN_model.parameters(),lr = 0.001)\n",
    "# optimizer.cuda()\n",
    "epochs = 40\n",
    "accuracy_list,loss_list,val_list = train_val_NN(NN_model,train_loader, valid_loader, criterion,optimizer,epochs)\n",
    "print(len(accuracy_list))"
   ]
  },
  {
   "cell_type": "code",
   "execution_count": 31,
   "metadata": {},
   "outputs": [
    {
     "data": {
      "text/plain": [
       "Text(0.5, 1.0, 'accuracy curve over epochs with blue for training and orange for testing \\n with normalized images')"
      ]
     },
     "execution_count": 31,
     "metadata": {},
     "output_type": "execute_result"
    },
    {
     "data": {
      "image/png": "[encoded data removed]",
      "text/plain": [
       "<Figure size 432x288 with 1 Axes>"
      ]
     },
     "metadata": {
      "needs_background": "light"
     },
     "output_type": "display_data"
    }
   ],
   "source": [
    "epoch_list = range(1,41)\n",
    "PLT.plot(epoch_list,accuracy_list)\n",
    "# PLT.plot(epoch_list,loss_list)\n",
    "PLT.plot(epoch_list,val_list)\n",
    "PLT.title(\"accuracy curve over epochs with blue for training and orange for testing \\n with normalized images\")\n",
    "# PLT.title(\"loss curve over epochs or testing data with normalized images\", /n \"with normalized images\")"
   ]
  },
  {
   "cell_type": "code",
   "execution_count": 42,
   "metadata": {
    "colab": {},
    "colab_type": "code",
    "id": "DK0rXwRdv-PC"
   },
   "outputs": [
    {
     "name": "stdout",
     "output_type": "stream",
     "text": [
      "Starting the training\n",
      "for validation: Epoch [1/40], Step [33/33], Loss: 1.3101, Accuracy: 25.00%\n",
      "for validation: Epoch [2/40], Step [33/33], Loss: 1.2265, Accuracy: 37.50%\n",
      "for validation: Epoch [3/40], Step [33/33], Loss: 1.3295, Accuracy: 25.00%\n",
      "for validation: Epoch [4/40], Step [33/33], Loss: 1.3489, Accuracy: 75.00%\n",
      "for validation: Epoch [5/40], Step [33/33], Loss: 1.1648, Accuracy: 62.50%\n",
      "for validation: Epoch [6/40], Step [33/33], Loss: 1.2147, Accuracy: 62.50%\n",
      "for validation: Epoch [7/40], Step [33/33], Loss: 1.0807, Accuracy: 37.50%\n",
      "for validation: Epoch [8/40], Step [33/33], Loss: 0.8705, Accuracy: 62.50%\n",
      "for validation: Epoch [9/40], Step [33/33], Loss: 1.0932, Accuracy: 87.50%\n",
      "for validation: Epoch [10/40], Step [33/33], Loss: 1.2924, Accuracy: 62.50%\n",
      "for validation: Epoch [11/40], Step [33/33], Loss: 0.9899, Accuracy: 62.50%\n",
      "for validation: Epoch [12/40], Step [33/33], Loss: 1.0122, Accuracy: 62.50%\n",
      "for validation: Epoch [13/40], Step [33/33], Loss: 1.1015, Accuracy: 50.00%\n",
      "for validation: Epoch [14/40], Step [33/33], Loss: 1.2240, Accuracy: 50.00%\n",
      "for validation: Epoch [15/40], Step [33/33], Loss: 1.0391, Accuracy: 37.50%\n",
      "for validation: Epoch [16/40], Step [33/33], Loss: 1.1706, Accuracy: 50.00%\n",
      "for validation: Epoch [17/40], Step [33/33], Loss: 0.8919, Accuracy: 62.50%\n",
      "for validation: Epoch [18/40], Step [33/33], Loss: 1.1512, Accuracy: 62.50%\n",
      "for validation: Epoch [19/40], Step [33/33], Loss: 0.9322, Accuracy: 62.50%\n",
      "for validation: Epoch [20/40], Step [33/33], Loss: 0.9655, Accuracy: 62.50%\n",
      "for validation: Epoch [21/40], Step [33/33], Loss: 0.8526, Accuracy: 75.00%\n",
      "for validation: Epoch [22/40], Step [33/33], Loss: 0.9781, Accuracy: 50.00%\n",
      "for validation: Epoch [23/40], Step [33/33], Loss: 0.8931, Accuracy: 62.50%\n",
      "for validation: Epoch [24/40], Step [33/33], Loss: 1.0092, Accuracy: 50.00%\n",
      "for validation: Epoch [25/40], Step [33/33], Loss: 1.1517, Accuracy: 50.00%\n",
      "for validation: Epoch [26/40], Step [33/33], Loss: 1.0144, Accuracy: 62.50%\n",
      "for validation: Epoch [27/40], Step [33/33], Loss: 0.8896, Accuracy: 50.00%\n",
      "for validation: Epoch [28/40], Step [33/33], Loss: 0.8853, Accuracy: 37.50%\n",
      "for validation: Epoch [29/40], Step [33/33], Loss: 1.0216, Accuracy: 37.50%\n",
      "for validation: Epoch [30/40], Step [33/33], Loss: 0.9295, Accuracy: 50.00%\n",
      "for validation: Epoch [31/40], Step [33/33], Loss: 1.0974, Accuracy: 62.50%\n",
      "for validation: Epoch [32/40], Step [33/33], Loss: 0.9550, Accuracy: 50.00%\n",
      "for validation: Epoch [33/40], Step [33/33], Loss: 1.0855, Accuracy: 50.00%\n",
      "for validation: Epoch [34/40], Step [33/33], Loss: 0.9715, Accuracy: 37.50%\n",
      "for validation: Epoch [35/40], Step [33/33], Loss: 0.8471, Accuracy: 75.00%\n",
      "for validation: Epoch [36/40], Step [33/33], Loss: 0.7678, Accuracy: 62.50%\n",
      "for validation: Epoch [37/40], Step [33/33], Loss: 1.1155, Accuracy: 62.50%\n",
      "for validation: Epoch [38/40], Step [33/33], Loss: 0.7437, Accuracy: 75.00%\n",
      "for validation: Epoch [39/40], Step [33/33], Loss: 0.7197, Accuracy: 62.50%\n",
      "for validation: Epoch [40/40], Step [33/33], Loss: 0.9913, Accuracy: 50.00%\n"
     ]
    }
   ],
   "source": [
    "# Run Baseline CNN\n",
    "CNN_model = ConvolutionalNN()\n",
    "CNN_model.cuda()\n",
    "criterion = nn.CrossEntropyLoss()\n",
    "criterion.cuda()\n",
    "optimizer = torch.optim.Adagrad(CNN_model.parameters(),lr = 0.001)\n",
    "epochs = 40\n",
    "accuracy_list,loss_list,val_list = train_val_NN(CNN_model,train_loader, valid_loader, criterion,optimizer,epochs)\n",
    "\n"
   ]
  },
  {
   "cell_type": "code",
   "execution_count": 36,
   "metadata": {},
   "outputs": [
    {
     "data": {
      "text/plain": [
       "Text(0.5, 1.0, 'accuracy curve over epochs with blue for training and orange for testing \\n for normalized images')"
      ]
     },
     "execution_count": 36,
     "metadata": {},
     "output_type": "execute_result"
    },
    {
     "data": {
      "image/png": "[encoded data removed]",
      "text/plain": [
       "<Figure size 432x288 with 1 Axes>"
      ]
     },
     "metadata": {
      "needs_background": "light"
     },
     "output_type": "display_data"
    }
   ],
   "source": [
    "epoch_list = range(1,41)\n",
    "PLT.plot(epoch_list,accuracy_list)\n",
    "# PLT.plot(epoch_list,loss_list)\n",
    "PLT.plot(epoch_list,val_list)\n",
    "# PLT.title(\"loss curve over epochs for training for normalized images\")\n",
    "PLT.title(\"accuracy curve over epochs with blue for training and orange for testing \\n for normalized images\")"
   ]
  },
  {
   "cell_type": "code",
   "execution_count": null,
   "metadata": {},
   "outputs": [],
   "source": []
  },
  {
   "cell_type": "code",
   "execution_count": 45,
   "metadata": {
    "colab": {},
    "colab_type": "code",
    "id": "gojhzqhrwAxk"
   },
   "outputs": [
    {
     "name": "stdout",
     "output_type": "stream",
     "text": [
      "Starting the training\n",
      "For training: Epoch [1/40], Step [33/33], Loss: 1.5372, Accuracy: 33.33%\n",
      "For training: Epoch [2/40], Step [33/33], Loss: 1.3670, Accuracy: 42.42%\n",
      "For training: Epoch [3/40], Step [33/33], Loss: 1.3106, Accuracy: 54.55%\n",
      "For training: Epoch [4/40], Step [33/33], Loss: 1.3922, Accuracy: 42.42%\n",
      "For training: Epoch [5/40], Step [33/33], Loss: 1.2256, Accuracy: 48.48%\n",
      "For training: Epoch [6/40], Step [33/33], Loss: 1.1245, Accuracy: 60.61%\n",
      "For training: Epoch [7/40], Step [33/33], Loss: 0.9333, Accuracy: 66.67%\n",
      "For training: Epoch [8/40], Step [33/33], Loss: 1.2894, Accuracy: 39.39%\n",
      "For training: Epoch [9/40], Step [33/33], Loss: 0.8620, Accuracy: 72.73%\n",
      "For training: Epoch [10/40], Step [33/33], Loss: 1.0142, Accuracy: 54.55%\n",
      "For training: Epoch [11/40], Step [33/33], Loss: 0.5873, Accuracy: 75.76%\n",
      "For training: Epoch [12/40], Step [33/33], Loss: 0.9012, Accuracy: 60.61%\n",
      "For training: Epoch [13/40], Step [33/33], Loss: 0.5900, Accuracy: 78.79%\n",
      "For training: Epoch [14/40], Step [33/33], Loss: 0.5448, Accuracy: 78.79%\n",
      "For training: Epoch [15/40], Step [33/33], Loss: 0.8622, Accuracy: 66.67%\n",
      "For training: Epoch [16/40], Step [33/33], Loss: 0.5760, Accuracy: 78.79%\n",
      "For training: Epoch [17/40], Step [33/33], Loss: 0.4315, Accuracy: 90.91%\n",
      "For training: Epoch [18/40], Step [33/33], Loss: 0.3455, Accuracy: 90.91%\n",
      "For training: Epoch [19/40], Step [33/33], Loss: 0.3700, Accuracy: 87.88%\n",
      "For training: Epoch [20/40], Step [33/33], Loss: 0.5936, Accuracy: 78.79%\n",
      "For training: Epoch [21/40], Step [33/33], Loss: 0.4868, Accuracy: 87.88%\n",
      "For training: Epoch [22/40], Step [33/33], Loss: 0.2867, Accuracy: 87.88%\n",
      "For training: Epoch [23/40], Step [33/33], Loss: 0.4114, Accuracy: 90.91%\n",
      "For training: Epoch [24/40], Step [33/33], Loss: 0.2284, Accuracy: 90.91%\n",
      "For training: Epoch [25/40], Step [33/33], Loss: 0.2240, Accuracy: 90.91%\n",
      "For training: Epoch [26/40], Step [33/33], Loss: 0.2960, Accuracy: 87.88%\n",
      "For training: Epoch [27/40], Step [33/33], Loss: 0.3616, Accuracy: 90.91%\n",
      "For training: Epoch [28/40], Step [33/33], Loss: 0.2860, Accuracy: 93.94%\n",
      "For training: Epoch [29/40], Step [33/33], Loss: 0.2430, Accuracy: 90.91%\n",
      "For training: Epoch [30/40], Step [33/33], Loss: 0.1968, Accuracy: 90.91%\n",
      "For training: Epoch [31/40], Step [33/33], Loss: 0.2606, Accuracy: 96.97%\n",
      "For training: Epoch [32/40], Step [33/33], Loss: 0.1514, Accuracy: 93.94%\n",
      "For training: Epoch [33/40], Step [33/33], Loss: 0.1404, Accuracy: 96.97%\n",
      "For training: Epoch [34/40], Step [33/33], Loss: 0.1257, Accuracy: 93.94%\n",
      "For training: Epoch [35/40], Step [33/33], Loss: 0.0886, Accuracy: 96.97%\n",
      "For training: Epoch [36/40], Step [33/33], Loss: 0.1111, Accuracy: 96.97%\n",
      "For training: Epoch [37/40], Step [33/33], Loss: 0.1316, Accuracy: 96.97%\n",
      "For training: Epoch [38/40], Step [33/33], Loss: 0.0921, Accuracy: 96.97%\n",
      "For training: Epoch [39/40], Step [33/33], Loss: 0.1699, Accuracy: 96.97%\n",
      "For training: Epoch [40/40], Step [33/33], Loss: 0.1490, Accuracy: 93.94%\n"
     ]
    }
   ],
   "source": [
    "# Run optimized CNN on Normilized Images\n",
    "\n",
    "OCNN_model = OptimizedNN()\n",
    "OCNN_model.cuda()\n",
    "criterion = nn.CrossEntropyLoss()\n",
    "criterion.cuda()\n",
    "optimizer = torch.optim.Adam(OCNN_model.parameters(),lr = 0.001)\n",
    "epochs = 40\n",
    "accuracy_list,loss_list,val_list = train_val_NN(OCNN_model,train_loader, valid_loader, criterion,optimizer,epochs)\n"
   ]
  },
  {
   "cell_type": "code",
   "execution_count": 21,
   "metadata": {},
   "outputs": [
    {
     "data": {
      "text/plain": [
       "Text(0.5, 1.0, 'accuracy curve over epochs with blue for training and orange for testing')"
      ]
     },
     "execution_count": 21,
     "metadata": {},
     "output_type": "execute_result"
    },
    {
     "data": {
      "image/png": "[encoded data removed]",
      "text/plain": [
       "<Figure size 432x288 with 1 Axes>"
      ]
     },
     "metadata": {
      "needs_background": "light"
     },
     "output_type": "display_data"
    }
   ],
   "source": [
    "epoch_list = range(1,41)\n",
    "PLT.plot(epoch_list,accuracy_list)\n",
    "# PLT.plot(epoch_list,loss_list)\n",
    "PLT.plot(epoch_list,val_list)\n",
    "# PLT.title(\"loss curve over epochs for training\")\n",
    "PLT.title(\"accuracy curve over epochs with blue for training and orange for testing\")"
   ]
  },
  {
   "cell_type": "code",
   "execution_count": null,
   "metadata": {
    "colab": {},
    "colab_type": "code",
    "id": "Ioni3nPfwEIE",
    "scrolled": true
   },
   "outputs": [],
   "source": [
    "OCNNT_model = OptimizedNN()\n",
    "OCNNT_model.cuda()\n",
    "criterion = nn.CrossEntropyLoss()\n",
    "criterion.cuda()\n",
    "optimizer = torch.optim.Adam(OCNNT_model.parameters(),lr = 0.001)\n",
    "epochs = 40\n",
    "accuracy_list,loss_list,val_list = train_val_NN(OCNNT_model,total_loader, valid_loader, criterion,optimizer,epochs)\n",
    "test_data = np.load('data/images_test.npy')\n",
    "test_data = torch.from_numpy(test_data).float().cuda()\n",
    "# torch.tensor(test_data, dtype = torch.float32)\n",
    "test_dataset = torch.utils.data.TensorDataset(test_data)\n",
    "test_loader = DataLoader(test_dataset, batch_size=32)\n",
    "predicted = test_NN(OCNNT_model, test_loader, criterion)"
   ]
  },
  {
   "cell_type": "code",
   "execution_count": null,
   "metadata": {},
   "outputs": [],
   "source": [
    "import numpy as np\n",
    "# print(list(predicted[0].shape)[0])\n",
    "with open('HW4_preds.txt', 'w', encoding = 'utf8') as file:\n",
    "    for i in range(len(predicted)):\n",
    "        tensor = predicted[i]\n",
    "        for n in range(list(predicted[i].shape)[0]):\n",
    "            file.write(str(predicted[i][n].item())+'\\n')"
   ]
  },
  {
   "cell_type": "code",
   "execution_count": null,
   "metadata": {},
   "outputs": [],
   "source": []
  }
 ],
 "metadata": {
  "colab": {
   "collapsed_sections": [],
   "name": "HW4.ipynb",
   "provenance": [],
   "version": "0.3.2"
  },
  "kernelspec": {
   "display_name": "Python 3",
   "language": "python",
   "name": "python3"
  },
  "language_info": {
   "codemirror_mode": {
    "name": "ipython",
    "version": 3
   },
   "file_extension": ".py",
   "mimetype": "text/x-python",
   "name": "python",
   "nbconvert_exporter": "python",
   "pygments_lexer": "ipython3",
   "version": "3.7.1"
  }
 },
 "nbformat": 4,
 "nbformat_minor": 1
}
